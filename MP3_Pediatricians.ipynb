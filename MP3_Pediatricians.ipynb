{
 "cells": [
  {
   "cell_type": "code",
   "execution_count": 1,
   "id": "46fed147-3bc2-4132-8fd8-44fa692c908c",
   "metadata": {},
   "outputs": [],
   "source": [
    "import pandas as pd\n",
    "import geopandas as gpd\n",
    "from shapely.geometry import Point"
   ]
  },
  {
   "cell_type": "code",
   "execution_count": 2,
   "id": "1cba0052-c8e7-47cd-b9e5-8f0463ce5522",
   "metadata": {},
   "outputs": [],
   "source": [
    "#import file\n",
    "#Hard coded file name\n",
    "\n",
    "##csv hes been cleaned of /r and other formating that came with the PDF to XLS...\n",
    "\n",
    "file_name = r\"MP3_list_no_coma33.csv\"\n",
    "\n",
    "df = pd.read_csv(file_name, sep=\",\")"
   ]
  },
  {
   "cell_type": "code",
   "execution_count": 22,
   "id": "0a6882c8-7348-4153-b03c-65da75378161",
   "metadata": {},
   "outputs": [
    {
     "data": {
      "text/html": [
       "<div>\n",
       "<style scoped>\n",
       "    .dataframe tbody tr th:only-of-type {\n",
       "        vertical-align: middle;\n",
       "    }\n",
       "\n",
       "    .dataframe tbody tr th {\n",
       "        vertical-align: top;\n",
       "    }\n",
       "\n",
       "    .dataframe thead th {\n",
       "        text-align: right;\n",
       "    }\n",
       "</style>\n",
       "<table border=\"1\" class=\"dataframe\">\n",
       "  <thead>\n",
       "    <tr style=\"text-align: right;\">\n",
       "      <th></th>\n",
       "      <th>LAST NAME</th>\n",
       "      <th>FIRST NAME</th>\n",
       "      <th>SPECIALTY</th>\n",
       "      <th>GROUP NAME</th>\n",
       "      <th>ADDRESS</th>\n",
       "      <th>PHONE</th>\n",
       "    </tr>\n",
       "  </thead>\n",
       "  <tbody>\n",
       "    <tr>\n",
       "      <th>0</th>\n",
       "      <td>ABRAMYAN</td>\n",
       "      <td>MIKAYEL</td>\n",
       "      <td>PEDIATRICS GENERAL</td>\n",
       "      <td>PEDIATRIC ASSOC MED GRP INC</td>\n",
       "      <td>4330 FULTON AVE SHERMAN OAKS CA 91423</td>\n",
       "      <td>8187841102</td>\n",
       "    </tr>\n",
       "    <tr>\n",
       "      <th>1</th>\n",
       "      <td>AGRAWAL</td>\n",
       "      <td>NUPUR</td>\n",
       "      <td>UCLA PEDIATRICS GENERAL / UCLA GENDER HEALTH</td>\n",
       "      <td>UCLA HEALTH SANTA MONICA MEDICINE PEDIATRICS C...</td>\n",
       "      <td>1245 16TH STREET SUITE 125 SANTA MONICA CA 90404</td>\n",
       "      <td>3103158900</td>\n",
       "    </tr>\n",
       "    <tr>\n",
       "      <th>2</th>\n",
       "      <td>AHMADIAN</td>\n",
       "      <td>NAZANIN</td>\n",
       "      <td>UCLA PEDIATRICS GENERAL</td>\n",
       "      <td>UCLA HEALTH CALABASAS PEDIATRICS</td>\n",
       "      <td>26585 WEST AGOURA ROAD SUITE 360 CALABASAS CA ...</td>\n",
       "      <td>8185922320</td>\n",
       "    </tr>\n",
       "    <tr>\n",
       "      <th>3</th>\n",
       "      <td>ALBAN</td>\n",
       "      <td>BLAKE</td>\n",
       "      <td>UCLA PEDIATRICS GENERAL</td>\n",
       "      <td>UCLA HEALTH WEST LOS ANGELES PEDIATRICS</td>\n",
       "      <td>11318 NATIONAL BOULEVARD LOS ANGELES CA 90064</td>\n",
       "      <td>3102319150</td>\n",
       "    </tr>\n",
       "    <tr>\n",
       "      <th>4</th>\n",
       "      <td>ANDERSON</td>\n",
       "      <td>MARTIN</td>\n",
       "      <td>UCLA PEDIATRICS GENERAL</td>\n",
       "      <td>UCLA CHILDREN'S HEALTH CENTER</td>\n",
       "      <td>200 UCLA MEDICAL PLAZA SUITE 265 LOS ANGELES C...</td>\n",
       "      <td>3108250867</td>\n",
       "    </tr>\n",
       "  </tbody>\n",
       "</table>\n",
       "</div>"
      ],
      "text/plain": [
       "  LAST NAME FIRST NAME                                     SPECIALTY  \\\n",
       "0  ABRAMYAN    MIKAYEL                            PEDIATRICS GENERAL   \n",
       "1   AGRAWAL      NUPUR  UCLA PEDIATRICS GENERAL / UCLA GENDER HEALTH   \n",
       "2  AHMADIAN    NAZANIN                       UCLA PEDIATRICS GENERAL   \n",
       "3     ALBAN      BLAKE                       UCLA PEDIATRICS GENERAL   \n",
       "4  ANDERSON     MARTIN                       UCLA PEDIATRICS GENERAL   \n",
       "\n",
       "                                          GROUP NAME  \\\n",
       "0                        PEDIATRIC ASSOC MED GRP INC   \n",
       "1  UCLA HEALTH SANTA MONICA MEDICINE PEDIATRICS C...   \n",
       "2                   UCLA HEALTH CALABASAS PEDIATRICS   \n",
       "3            UCLA HEALTH WEST LOS ANGELES PEDIATRICS   \n",
       "4                      UCLA CHILDREN'S HEALTH CENTER   \n",
       "\n",
       "                                             ADDRESS       PHONE  \n",
       "0              4330 FULTON AVE SHERMAN OAKS CA 91423  8187841102  \n",
       "1   1245 16TH STREET SUITE 125 SANTA MONICA CA 90404  3103158900  \n",
       "2  26585 WEST AGOURA ROAD SUITE 360 CALABASAS CA ...  8185922320  \n",
       "3      11318 NATIONAL BOULEVARD LOS ANGELES CA 90064  3102319150  \n",
       "4  200 UCLA MEDICAL PLAZA SUITE 265 LOS ANGELES C...  3108250867  "
      ]
     },
     "execution_count": 22,
     "metadata": {},
     "output_type": "execute_result"
    }
   ],
   "source": [
    "#check it\n",
    "df.head()"
   ]
  },
  {
   "cell_type": "code",
   "execution_count": 4,
   "id": "82a9289a-8d08-46d1-b148-82bac00e5ecc",
   "metadata": {},
   "outputs": [],
   "source": [
    "#geocode the addresses\n",
    "\n",
    "# Import the geocoding tool\n",
    "from geopandas.tools import geocode\n",
    "\n",
    "# Geocode addresses using Nominatim. Remember to provide a custom \"application name\" in the user_agent parameter!\n",
    "#using arcgis as nomitim has issues with \"suites\" and other doctors office address issues\n",
    "geo2 = geocode(df['ADDRESS'], provider='arcgis', user_agent='autogis_9999', timeout=4)"
   ]
  },
  {
   "cell_type": "code",
   "execution_count": 24,
   "id": "68894b7d-d77f-4861-9396-37e4f81ad5eb",
   "metadata": {},
   "outputs": [
    {
     "data": {
      "text/html": [
       "<div>\n",
       "<style scoped>\n",
       "    .dataframe tbody tr th:only-of-type {\n",
       "        vertical-align: middle;\n",
       "    }\n",
       "\n",
       "    .dataframe tbody tr th {\n",
       "        vertical-align: top;\n",
       "    }\n",
       "\n",
       "    .dataframe thead th {\n",
       "        text-align: right;\n",
       "    }\n",
       "</style>\n",
       "<table border=\"1\" class=\"dataframe\">\n",
       "  <thead>\n",
       "    <tr style=\"text-align: right;\">\n",
       "      <th></th>\n",
       "      <th>geometry</th>\n",
       "      <th>address</th>\n",
       "    </tr>\n",
       "  </thead>\n",
       "  <tbody>\n",
       "    <tr>\n",
       "      <th>0</th>\n",
       "      <td>POINT (-118.42216 34.14958)</td>\n",
       "      <td>4330 Fulton Ave, Sherman Oaks, California, 91423</td>\n",
       "    </tr>\n",
       "    <tr>\n",
       "      <th>1</th>\n",
       "      <td>POINT (-118.48546 34.02748)</td>\n",
       "      <td>1245 16th St, Ste 125, Santa Monica, Californi...</td>\n",
       "    </tr>\n",
       "    <tr>\n",
       "      <th>2</th>\n",
       "      <td>POINT (-118.70374 34.14301)</td>\n",
       "      <td>26585 Agoura Rd, #360, Calabasas, California, ...</td>\n",
       "    </tr>\n",
       "    <tr>\n",
       "      <th>3</th>\n",
       "      <td>POINT (-118.43219 34.02580)</td>\n",
       "      <td>11318 National Blvd, Los Angeles, California, ...</td>\n",
       "    </tr>\n",
       "    <tr>\n",
       "      <th>4</th>\n",
       "      <td>POINT (-118.44705 34.06513)</td>\n",
       "      <td>200 Ucla Medical Plz, #265, Los Angeles, Calif...</td>\n",
       "    </tr>\n",
       "  </tbody>\n",
       "</table>\n",
       "</div>"
      ],
      "text/plain": [
       "                      geometry  \\\n",
       "0  POINT (-118.42216 34.14958)   \n",
       "1  POINT (-118.48546 34.02748)   \n",
       "2  POINT (-118.70374 34.14301)   \n",
       "3  POINT (-118.43219 34.02580)   \n",
       "4  POINT (-118.44705 34.06513)   \n",
       "\n",
       "                                             address  \n",
       "0   4330 Fulton Ave, Sherman Oaks, California, 91423  \n",
       "1  1245 16th St, Ste 125, Santa Monica, Californi...  \n",
       "2  26585 Agoura Rd, #360, Calabasas, California, ...  \n",
       "3  11318 National Blvd, Los Angeles, California, ...  \n",
       "4  200 Ucla Medical Plz, #265, Los Angeles, Calif...  "
      ]
     },
     "execution_count": 24,
     "metadata": {},
     "output_type": "execute_result"
    }
   ],
   "source": [
    "#check it\n",
    "geo2.head()"
   ]
  },
  {
   "cell_type": "code",
   "execution_count": 6,
   "id": "c4d01dbe-442a-490c-b2e5-8d8eff0c70c9",
   "metadata": {},
   "outputs": [],
   "source": [
    "#join the geocoded back to the orig\n",
    "joined = df.join(geo2)"
   ]
  },
  {
   "cell_type": "code",
   "execution_count": 23,
   "id": "276b2a21-8989-40dd-8bf6-59dc5b4a9203",
   "metadata": {},
   "outputs": [
    {
     "data": {
      "text/html": [
       "<div>\n",
       "<style scoped>\n",
       "    .dataframe tbody tr th:only-of-type {\n",
       "        vertical-align: middle;\n",
       "    }\n",
       "\n",
       "    .dataframe tbody tr th {\n",
       "        vertical-align: top;\n",
       "    }\n",
       "\n",
       "    .dataframe thead th {\n",
       "        text-align: right;\n",
       "    }\n",
       "</style>\n",
       "<table border=\"1\" class=\"dataframe\">\n",
       "  <thead>\n",
       "    <tr style=\"text-align: right;\">\n",
       "      <th></th>\n",
       "      <th>LAST NAME</th>\n",
       "      <th>FIRST NAME</th>\n",
       "      <th>SPECIALTY</th>\n",
       "      <th>GROUP NAME</th>\n",
       "      <th>ADDRESS</th>\n",
       "      <th>PHONE</th>\n",
       "      <th>geometry</th>\n",
       "      <th>address</th>\n",
       "    </tr>\n",
       "  </thead>\n",
       "  <tbody>\n",
       "    <tr>\n",
       "      <th>0</th>\n",
       "      <td>ABRAMYAN</td>\n",
       "      <td>MIKAYEL</td>\n",
       "      <td>PEDIATRICS GENERAL</td>\n",
       "      <td>PEDIATRIC ASSOC MED GRP INC</td>\n",
       "      <td>4330 FULTON AVE SHERMAN OAKS CA 91423</td>\n",
       "      <td>8187841102</td>\n",
       "      <td>POINT (-118.42216 34.14958)</td>\n",
       "      <td>4330 Fulton Ave, Sherman Oaks, California, 91423</td>\n",
       "    </tr>\n",
       "    <tr>\n",
       "      <th>1</th>\n",
       "      <td>AGRAWAL</td>\n",
       "      <td>NUPUR</td>\n",
       "      <td>UCLA PEDIATRICS GENERAL / UCLA GENDER HEALTH</td>\n",
       "      <td>UCLA HEALTH SANTA MONICA MEDICINE PEDIATRICS C...</td>\n",
       "      <td>1245 16TH STREET SUITE 125 SANTA MONICA CA 90404</td>\n",
       "      <td>3103158900</td>\n",
       "      <td>POINT (-118.48546 34.02748)</td>\n",
       "      <td>1245 16th St, Ste 125, Santa Monica, Californi...</td>\n",
       "    </tr>\n",
       "    <tr>\n",
       "      <th>2</th>\n",
       "      <td>AHMADIAN</td>\n",
       "      <td>NAZANIN</td>\n",
       "      <td>UCLA PEDIATRICS GENERAL</td>\n",
       "      <td>UCLA HEALTH CALABASAS PEDIATRICS</td>\n",
       "      <td>26585 WEST AGOURA ROAD SUITE 360 CALABASAS CA ...</td>\n",
       "      <td>8185922320</td>\n",
       "      <td>POINT (-118.70374 34.14301)</td>\n",
       "      <td>26585 Agoura Rd, #360, Calabasas, California, ...</td>\n",
       "    </tr>\n",
       "    <tr>\n",
       "      <th>3</th>\n",
       "      <td>ALBAN</td>\n",
       "      <td>BLAKE</td>\n",
       "      <td>UCLA PEDIATRICS GENERAL</td>\n",
       "      <td>UCLA HEALTH WEST LOS ANGELES PEDIATRICS</td>\n",
       "      <td>11318 NATIONAL BOULEVARD LOS ANGELES CA 90064</td>\n",
       "      <td>3102319150</td>\n",
       "      <td>POINT (-118.43219 34.02580)</td>\n",
       "      <td>11318 National Blvd, Los Angeles, California, ...</td>\n",
       "    </tr>\n",
       "    <tr>\n",
       "      <th>4</th>\n",
       "      <td>ANDERSON</td>\n",
       "      <td>MARTIN</td>\n",
       "      <td>UCLA PEDIATRICS GENERAL</td>\n",
       "      <td>UCLA CHILDREN'S HEALTH CENTER</td>\n",
       "      <td>200 UCLA MEDICAL PLAZA SUITE 265 LOS ANGELES C...</td>\n",
       "      <td>3108250867</td>\n",
       "      <td>POINT (-118.44705 34.06513)</td>\n",
       "      <td>200 Ucla Medical Plz, #265, Los Angeles, Calif...</td>\n",
       "    </tr>\n",
       "  </tbody>\n",
       "</table>\n",
       "</div>"
      ],
      "text/plain": [
       "  LAST NAME FIRST NAME                                     SPECIALTY  \\\n",
       "0  ABRAMYAN    MIKAYEL                            PEDIATRICS GENERAL   \n",
       "1   AGRAWAL      NUPUR  UCLA PEDIATRICS GENERAL / UCLA GENDER HEALTH   \n",
       "2  AHMADIAN    NAZANIN                       UCLA PEDIATRICS GENERAL   \n",
       "3     ALBAN      BLAKE                       UCLA PEDIATRICS GENERAL   \n",
       "4  ANDERSON     MARTIN                       UCLA PEDIATRICS GENERAL   \n",
       "\n",
       "                                          GROUP NAME  \\\n",
       "0                        PEDIATRIC ASSOC MED GRP INC   \n",
       "1  UCLA HEALTH SANTA MONICA MEDICINE PEDIATRICS C...   \n",
       "2                   UCLA HEALTH CALABASAS PEDIATRICS   \n",
       "3            UCLA HEALTH WEST LOS ANGELES PEDIATRICS   \n",
       "4                      UCLA CHILDREN'S HEALTH CENTER   \n",
       "\n",
       "                                             ADDRESS       PHONE  \\\n",
       "0              4330 FULTON AVE SHERMAN OAKS CA 91423  8187841102   \n",
       "1   1245 16TH STREET SUITE 125 SANTA MONICA CA 90404  3103158900   \n",
       "2  26585 WEST AGOURA ROAD SUITE 360 CALABASAS CA ...  8185922320   \n",
       "3      11318 NATIONAL BOULEVARD LOS ANGELES CA 90064  3102319150   \n",
       "4  200 UCLA MEDICAL PLAZA SUITE 265 LOS ANGELES C...  3108250867   \n",
       "\n",
       "                      geometry  \\\n",
       "0  POINT (-118.42216 34.14958)   \n",
       "1  POINT (-118.48546 34.02748)   \n",
       "2  POINT (-118.70374 34.14301)   \n",
       "3  POINT (-118.43219 34.02580)   \n",
       "4  POINT (-118.44705 34.06513)   \n",
       "\n",
       "                                             address  \n",
       "0   4330 Fulton Ave, Sherman Oaks, California, 91423  \n",
       "1  1245 16th St, Ste 125, Santa Monica, Californi...  \n",
       "2  26585 Agoura Rd, #360, Calabasas, California, ...  \n",
       "3  11318 National Blvd, Los Angeles, California, ...  \n",
       "4  200 Ucla Medical Plz, #265, Los Angeles, Calif...  "
      ]
     },
     "execution_count": 23,
     "metadata": {},
     "output_type": "execute_result"
    }
   ],
   "source": [
    "#check it\n",
    "joined.head()"
   ]
  },
  {
   "cell_type": "code",
   "execution_count": 8,
   "id": "5d7306a4-7f14-4286-9167-4332fc9dfc70",
   "metadata": {},
   "outputs": [],
   "source": [
    "#export to csv for reasons I dont recall?\n",
    "joined.to_csv(\"MP3_Ped_Geocoded.csv\")"
   ]
  },
  {
   "cell_type": "code",
   "execution_count": 9,
   "id": "a2d26dfd-d24d-4d61-a509-f3f8cf1bc114",
   "metadata": {},
   "outputs": [],
   "source": [
    "#Make it a GDB\n",
    "gdf = gpd.GeoDataFrame(\n",
    "    joined)"
   ]
  },
  {
   "cell_type": "code",
   "execution_count": 10,
   "id": "81530e5b-e7f9-4d5b-931e-854183b1a863",
   "metadata": {},
   "outputs": [
    {
     "data": {
      "text/plain": [
       "geopandas.geodataframe.GeoDataFrame"
      ]
     },
     "execution_count": 10,
     "metadata": {},
     "output_type": "execute_result"
    }
   ],
   "source": [
    "#check that it worked\n",
    "type(gdf)"
   ]
  },
  {
   "cell_type": "code",
   "execution_count": 11,
   "id": "5033b46a-dbef-49a3-91c2-957bcbe2a546",
   "metadata": {},
   "outputs": [
    {
     "data": {
      "text/plain": [
       "<Geographic 2D CRS: EPSG:4326>\n",
       "Name: WGS 84\n",
       "Axis Info [ellipsoidal]:\n",
       "- Lat[north]: Geodetic latitude (degree)\n",
       "- Lon[east]: Geodetic longitude (degree)\n",
       "Area of Use:\n",
       "- name: World.\n",
       "- bounds: (-180.0, -90.0, 180.0, 90.0)\n",
       "Datum: World Geodetic System 1984 ensemble\n",
       "- Ellipsoid: WGS 84\n",
       "- Prime Meridian: Greenwich"
      ]
     },
     "execution_count": 11,
     "metadata": {},
     "output_type": "execute_result"
    }
   ],
   "source": [
    "#Check CRS\n",
    "gdf.crs"
   ]
  },
  {
   "cell_type": "code",
   "execution_count": 20,
   "id": "db0496de-5634-40c1-9c41-736e1da7762a",
   "metadata": {},
   "outputs": [],
   "source": [
    "#Export Shapefile\n",
    "#hard coded...\n",
    "\n",
    "gdf.to_file(r'shape/test.shp')"
   ]
  }
 ],
 "metadata": {
  "kernelspec": {
   "display_name": "Python 3 (ipykernel)",
   "language": "python",
   "name": "python3"
  },
  "language_info": {
   "codemirror_mode": {
    "name": "ipython",
    "version": 3
   },
   "file_extension": ".py",
   "mimetype": "text/x-python",
   "name": "python",
   "nbconvert_exporter": "python",
   "pygments_lexer": "ipython3",
   "version": "3.8.10"
  }
 },
 "nbformat": 4,
 "nbformat_minor": 5
}
